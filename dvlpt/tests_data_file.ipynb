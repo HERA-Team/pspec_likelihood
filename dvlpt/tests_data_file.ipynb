{
 "cells": [
  {
   "cell_type": "code",
   "execution_count": 1,
   "id": "5fc66018",
   "metadata": {},
   "outputs": [],
   "source": [
    "%matplotlib inline\n",
    "import numpy as np\n",
    "import matplotlib.pyplot as plt\n",
    "import glob\n",
    "import os\n",
    "import hera_pspec as hp\n",
    "from pyuvdata import UVBeam, UVData, UVCal, UVFlag, utils as uvutils\n",
    "import copy\n",
    "import sys\n",
    "from astropy import constants, units, cosmology\n",
    "import uvtools as uvt\n",
    "from collections import OrderedDict as odict\n",
    "from hera_pspec.data import DATA_PATH"
   ]
  },
  {
   "cell_type": "code",
   "execution_count": 2,
   "id": "2d411349",
   "metadata": {},
   "outputs": [],
   "source": [
    "from pspec_likelihood import *"
   ]
  },
  {
   "cell_type": "code",
   "execution_count": 3,
   "id": "158c2f4e",
   "metadata": {},
   "outputs": [],
   "source": [
    "%load_ext autoreload\n",
    "%autoreload 2"
   ]
  },
  {
   "cell_type": "markdown",
   "id": "5bec643c",
   "metadata": {},
   "source": [
    "## 1. Form UVPSpec objects to fit"
   ]
  },
  {
   "cell_type": "markdown",
   "id": "4f16dd36",
   "metadata": {},
   "source": [
    "Import test data"
   ]
  },
  {
   "cell_type": "code",
   "execution_count": 4,
   "id": "f63b70b8",
   "metadata": {},
   "outputs": [],
   "source": [
    "path_to_wf = '../tests/data/'\n",
    "dfile = 'data_calibrated_testfile.h5'"
   ]
  },
  {
   "cell_type": "code",
   "execution_count": 5,
   "id": "ad56e200",
   "metadata": {},
   "outputs": [
    {
     "name": "stdout",
     "output_type": "stream",
     "text": [
      "Cannot convert dset 1 Jy -> mK because vis_units = mK\n"
     ]
    }
   ],
   "source": [
    "uvd = UVData()\n",
    "uvd.read_uvh5(os.path.join(path_to_wf, dfile))\n",
    "\n",
    "# # beam \n",
    "beamfile = os.path.join(DATA_PATH, 'HERA_NF_pstokes_power.beamfits')\n",
    "uvb = hp.pspecbeam.PSpecBeamUV(beamfile)\n",
    "# Create a new PSpecData object, and don't forget to feed the beam object\n",
    "ds = hp.PSpecData(dsets=[uvd, uvd], wgts=[None, None], beam=uvb)\n",
    "ds.Jy_to_mK()\n",
    "# choose baselines\n",
    "baselines1, baselines2, blpairs = hp.utils.construct_blpairs(uvd.get_antpairs(),\n",
    "                                                            exclude_permutations=True,\n",
    "                                                            exclude_auto_bls=True)"
   ]
  },
  {
   "cell_type": "markdown",
   "id": "6dfd6b64",
   "metadata": {},
   "source": [
    "Form power spectrum"
   ]
  },
  {
   "cell_type": "code",
   "execution_count": 6,
   "id": "5ee85f43",
   "metadata": {},
   "outputs": [
    {
     "name": "stderr",
     "output_type": "stream",
     "text": [
      "Producing time-uniform covariance matrices between bandpowers.\n",
      "Casting complex values to real discards the imaginary part\n"
     ]
    },
    {
     "name": "stdout",
     "output_type": "stream",
     "text": [
      "15 (30, 20, 1) 2\n"
     ]
    }
   ],
   "source": [
    "# compute ps\n",
    "uvp = ds.pspec(baselines1, baselines2, dsets=(0, 1), pols=[('pI', 'pI')], \n",
    "               spw_ranges=(175, 195), taper='bh', verbose=False,\n",
    "               store_cov=True, store_window=True, baseline_tol=100.)\n",
    "print(uvp.Nblpairs, uvp.data_array[0].shape, uvp.Ntimes)"
   ]
  },
  {
   "cell_type": "code",
   "execution_count": 8,
   "id": "22b68cfa",
   "metadata": {},
   "outputs": [],
   "source": [
    "# get redundant groups\n",
    "blpair_groups, blpair_lens, _ = uvp.get_red_blpairs()"
   ]
  },
  {
   "cell_type": "code",
   "execution_count": 9,
   "id": "ba85a457",
   "metadata": {},
   "outputs": [
    {
     "name": "stdout",
     "output_type": "stream",
     "text": [
      "9\n"
     ]
    }
   ],
   "source": [
    "# there are baseline pairs that do not belong to a redundant group\n",
    "extra_blpairs = set(uvp.blpair_array) - set([blp for blpg in blpair_groups for blp in blpg])\n",
    "print(len(extra_blpairs))"
   ]
  },
  {
   "cell_type": "code",
   "execution_count": 10,
   "id": "af51bd1e",
   "metadata": {},
   "outputs": [
    {
     "name": "stdout",
     "output_type": "stream",
     "text": [
      "6 (12, 20, 1)\n"
     ]
    }
   ],
   "source": [
    "# only keep blpairs in redundant groups\n",
    "uvp.select(blpairs=[blp for blpg in blpair_groups for blp in blpg])\n",
    "print(uvp.Nblpairs, uvp.data_array[0].shape)"
   ]
  },
  {
   "cell_type": "code",
   "execution_count": 11,
   "id": "23bf0f87",
   "metadata": {},
   "outputs": [
    {
     "name": "stdout",
     "output_type": "stream",
     "text": [
      "2 (2, 20, 1)\n"
     ]
    }
   ],
   "source": [
    "# perform redundant average\n",
    "uvp.average_spectra(blpair_groups=blpair_groups, time_avg=True)\n",
    "print(uvp.Nblpairs, uvp.data_array[0].shape)"
   ]
  },
  {
   "cell_type": "markdown",
   "id": "0c66a69e",
   "metadata": {},
   "source": [
    "Take spherical average"
   ]
  },
  {
   "cell_type": "code",
   "execution_count": 12,
   "id": "b5c6fbcd",
   "metadata": {},
   "outputs": [],
   "source": [
    "kbins = np.linspace(0.1, 2.5, 40)\n",
    "sph = hp.grouping.spherical_average(uvp, kbins, np.diff(kbins).mean())"
   ]
  },
  {
   "cell_type": "markdown",
   "id": "329989c5",
   "metadata": {},
   "source": [
    "## 2. Generate likelihood"
   ]
  },
  {
   "cell_type": "code",
   "execution_count": 13,
   "id": "8e96ee43",
   "metadata": {},
   "outputs": [],
   "source": [
    "def theory_model(z, k, params):\n",
    "    return k**3/(2*np.pi**2)*params[0] * un.mK**2 *(1.+z)/k **params[1]"
   ]
  },
  {
   "cell_type": "code",
   "execution_count": 14,
   "id": "22b2b389",
   "metadata": {},
   "outputs": [],
   "source": [
    "def bias(k, z, little_h=True):\n",
    "    return np.ones(k.shape)"
   ]
  },
  {
   "cell_type": "code",
   "execution_count": 15,
   "id": "2c297a0c",
   "metadata": {},
   "outputs": [],
   "source": [
    "def bias_prior(params):\n",
    "    return 1."
   ]
  },
  {
   "cell_type": "code",
   "execution_count": 17,
   "id": "4010c5b4",
   "metadata": {},
   "outputs": [
    {
     "name": "stderr",
     "output_type": "stream",
     "text": [
      "Converting to Delta^2 in place...\n"
     ]
    }
   ],
   "source": [
    "dmi = DataModelInterface.from_uvpspec(uvp=uvp,\n",
    "                                      spw=0,\n",
    "                                      theory_model=theory_model,\n",
    "                                      theory_uses_spherical_k=True)"
   ]
  },
  {
   "cell_type": "code",
   "execution_count": null,
   "id": "95dd3066",
   "metadata": {},
   "outputs": [],
   "source": []
  }
 ],
 "metadata": {
  "kernelspec": {
   "display_name": "Python 3 (ipykernel)",
   "language": "python",
   "name": "python3"
  },
  "language_info": {
   "codemirror_mode": {
    "name": "ipython",
    "version": 3
   },
   "file_extension": ".py",
   "mimetype": "text/x-python",
   "name": "python",
   "nbconvert_exporter": "python",
   "pygments_lexer": "ipython3",
   "version": "3.8.13"
  }
 },
 "nbformat": 4,
 "nbformat_minor": 5
}
