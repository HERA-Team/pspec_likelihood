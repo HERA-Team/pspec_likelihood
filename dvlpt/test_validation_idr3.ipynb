{
 "cells": [
  {
   "cell_type": "code",
   "execution_count": 1,
   "id": "48d7f268",
   "metadata": {},
   "outputs": [],
   "source": [
    "from pyuvdata import UVData, UVBeam\n",
    "from pyuvdata import  utils as uvutils\n",
    "import hera_pspec as hp\n",
    "from collections import OrderedDict as odict\n",
    "from hera_pspec import utils\n",
    "from hera_pspec import uvpspec_utils as uvputils"
   ]
  },
  {
   "cell_type": "code",
   "execution_count": 3,
   "id": "7627e078",
   "metadata": {},
   "outputs": [],
   "source": [
    "from scipy.linalg import block_diag\n",
    "from astropy.io import fits\n",
    "from astropy import units, cosmology\n",
    "from scipy.interpolate import interp2d, interp1d\n",
    "from scipy import integrate\n",
    "import sys, matplotlib, os\n",
    "import numpy as np\n",
    "import h5py\n",
    "import time\n",
    "import copy\n",
    "import matplotlib.pyplot as plt\n",
    "from matplotlib import colors, cm"
   ]
  },
  {
   "cell_type": "code",
   "execution_count": 4,
   "id": "14eb3774",
   "metadata": {},
   "outputs": [],
   "source": [
    "from hera_pspec import UVPSpec, UVWindow, FTBeam"
   ]
  },
  {
   "cell_type": "code",
   "execution_count": 10,
   "id": "bce1a604",
   "metadata": {},
   "outputs": [],
   "source": [
    "from pspec_likelihood import *"
   ]
  },
  {
   "cell_type": "code",
   "execution_count": 11,
   "id": "d435ce1d",
   "metadata": {},
   "outputs": [],
   "source": [
    "from matplotlib import rc\n",
    "rc('font',**{'family':'serif', 'serif':['times new roman'], 'size': 15})\n",
    "rc('text', usetex=True)\n",
    "rc('axes', linewidth = 1.5)"
   ]
  },
  {
   "cell_type": "code",
   "execution_count": 12,
   "id": "3a7892e6",
   "metadata": {},
   "outputs": [],
   "source": [
    "%matplotlib inline\n",
    "%load_ext autoreload\n",
    "%autoreload 2"
   ]
  },
  {
   "cell_type": "code",
   "execution_count": 13,
   "id": "17df4843",
   "metadata": {},
   "outputs": [],
   "source": [
    "cosmo = cosmology.Planck18"
   ]
  },
  {
   "cell_type": "code",
   "execution_count": 14,
   "id": "9d1a13bf",
   "metadata": {},
   "outputs": [],
   "source": [
    "path_to_uvp = './' #path to pspec files, in ./dvlpt"
   ]
  },
  {
   "cell_type": "code",
   "execution_count": 15,
   "id": "34dd2ab8",
   "metadata": {},
   "outputs": [],
   "source": [
    "def theory_model(z, k, params):\n",
    "    return params[0]*(1.+z)/k**params[1]"
   ]
  },
  {
   "cell_type": "code",
   "execution_count": 16,
   "id": "3e3176d7",
   "metadata": {},
   "outputs": [],
   "source": [
    "def bias(k, z, little_h=True):\n",
    "    return np.ones(k.shape)"
   ]
  },
  {
   "cell_type": "code",
   "execution_count": 17,
   "id": "0b967c6e",
   "metadata": {},
   "outputs": [],
   "source": [
    "def bias_prior(params):\n",
    "    return 1."
   ]
  },
  {
   "cell_type": "code",
   "execution_count": 18,
   "id": "91bed527",
   "metadata": {},
   "outputs": [],
   "source": [
    "field = 'C'\n",
    "spw = 0\n",
    "\n",
    "filename = f'{path_to_uvp}sph_xtk_idr3_field{field}_band{spw+1}.hdf5'\n",
    "\n",
    "# spherically averaged power spectrum\n",
    "sph_pk = UVPSpec()\n",
    "sph_pk.read_hdf5(filename)\n",
    "sph_pk.convert_to_deltasq(inplace=True)\n",
    "\n",
    "# cylindrical power spectra (not in repo yet as too large - 12Gb)\n",
    "# u_xtk = UVPSpec()\n",
    "# u_xtk.read_hdf5(path_to_uvp+'u_xtk_idr3_field{}.hdf5'.format(field))"
   ]
  },
  {
   "cell_type": "code",
   "execution_count": 20,
   "id": "29cc4ef2",
   "metadata": {},
   "outputs": [
    {
     "name": "stdout",
     "output_type": "stream",
     "text": [
      "True\n"
     ]
    }
   ],
   "source": [
    "little_h = 'h^-3' in sph_pk.norm_units\n",
    "print(little_h)"
   ]
  },
  {
   "cell_type": "code",
   "execution_count": 22,
   "id": "80089690",
   "metadata": {},
   "outputs": [
    {
     "name": "stdout",
     "output_type": "stream",
     "text": [
      "10.345518635132605\n"
     ]
    }
   ],
   "source": [
    "spw_frequencies = sph_pk.get_spw_ranges(spw)[0][:2]\n",
    "redshift = sph_pk.cosmo.f2z(np.mean(spw_frequencies))\n",
    "print(redshift)"
   ]
  },
  {
   "cell_type": "code",
   "execution_count": 30,
   "id": "0c638c08",
   "metadata": {},
   "outputs": [],
   "source": [
    "dmi = DataModelInterface(cosmology=cosmo,\n",
    "                         redshift=redshift,\n",
    "                         power_spectrum=sph_pk.data_array[spw].real.flatten() * units.mK**2,\n",
    "                         window_function=sph_pk.window_function_array[spw].squeeze(),\n",
    "                         covariance=sph_pk.cov_array_real[spw].squeeze()*units.mK**4,\n",
    "                         kpar_bins_obs=sph_pk.get_kparas(spw) * cosmology.units.littleh / units.Mpc,\n",
    "                         kpar_bins_theory=sph_pk.get_kparas(spw)* cosmology.units.littleh / units.Mpc,\n",
    "                         kpar_widths_theory=None,\n",
    "                         kperp_bins_obs=None,\n",
    "                         kperp_bins_theory=None,\n",
    "                         kperp_widths_theory=None,\n",
    "                         window_integration_rule='midpoint',\n",
    "                         theory_uses_little_h=little_h,\n",
    "                         theory_uses_spherical_k=True,\n",
    "                         theory_model=theory_model,\n",
    "                         sys_model=None)"
   ]
  },
  {
   "cell_type": "code",
   "execution_count": 196,
   "id": "7c12bdfc",
   "metadata": {},
   "outputs": [
    {
     "data": {
      "text/latex": [
       "$[0,~0,~0,~80858.156,~81329.328,~90504.207,~107614.96,~99195.383,~108445.13,~99816.181,~103286.34,~151877.85,~149367.81,~145560.31,~102137.47,~89120.35,~77972.442,~86815.845,~49130.841,~-105740.82,~-20284.667,~41902.493,~42071.748,~25750.828,~297394.05,~256265.74,~-94613.206,~-191752.6,~-295577.12,~-78478.346,~-79204.973,~671671.1,~728976.83,~-67311.594,~-44299.27,~-21242.057,~-315526.29,~221313.46,~186053.49,~-39199.882] \\; \\mathrm{mK^{2}}$"
      ],
      "text/plain": [
       "<Quantity [      0.        ,       0.        ,       0.        ,\n",
       "             80858.1557112 ,   81329.32832972,   90504.2068348 ,\n",
       "            107614.96299835,   99195.38297638,  108445.1323706 ,\n",
       "             99816.18130349,  103286.34348106,  151877.84512877,\n",
       "            149367.80722872,  145560.31115762,  102137.46844667,\n",
       "             89120.35018827,   77972.44196781,   86815.84509719,\n",
       "             49130.84068066, -105740.81906454,  -20284.66735989,\n",
       "             41902.49333536,   42071.74757227,   25750.82750968,\n",
       "            297394.04877711,  256265.73981344,  -94613.20594183,\n",
       "           -191752.59778745, -295577.12498071,  -78478.34603521,\n",
       "            -79204.97326979,  671671.1024984 ,  728976.82580598,\n",
       "            -67311.59368981,  -44299.26967549,  -21242.0572551 ,\n",
       "           -315526.28902426,  221313.46481762,  186053.4940889 ,\n",
       "            -39199.88159653] mK2>"
      ]
     },
     "execution_count": 196,
     "metadata": {},
     "output_type": "execute_result"
    }
   ],
   "source": [
    "dmi.power_spectrum"
   ]
  },
  {
   "cell_type": "code",
   "execution_count": 31,
   "id": "7fa04a1a",
   "metadata": {},
   "outputs": [
    {
     "name": "stderr",
     "output_type": "stream",
     "text": [
      "/lustre/aoc/projects/hera/agorce/pspec_likelihood/src/pspec_likelihood/likelihood.py:618: UserWarning: Your covariance matrix is not diagonal. The MarginalizedLinearPositiveSystematics class requires diagonal covariance. Forcing it...\n",
      "  warnings.warn(\n"
     ]
    }
   ],
   "source": [
    "like = MarginalizedLinearPositiveSystematics(model=dmi)"
   ]
  },
  {
   "cell_type": "code",
   "execution_count": 32,
   "id": "c9fa523a",
   "metadata": {
    "scrolled": false
   },
   "outputs": [
    {
     "name": "stderr",
     "output_type": "stream",
     "text": [
      "/lustre/aoc/projects/hera/agorce/pspec_likelihood/src/pspec_likelihood/likelihood.py:638: UserWarning: Warning: Ignoring data in positions (array([0, 1, 2]),) as the variance is zero\n",
      "  warnings.warn(\n"
     ]
    },
    {
     "ename": "UnitConversionError",
     "evalue": "Can only apply 'subtract' function to dimensionless quantities when other argument is not a quantity (unless the latter is all zero/infinity/nan)",
     "output_type": "error",
     "traceback": [
      "\u001b[0;31m---------------------------------------------------------------------------\u001b[0m",
      "\u001b[0;31mUnitConversionError\u001b[0m                       Traceback (most recent call last)",
      "Input \u001b[0;32mIn [32]\u001b[0m, in \u001b[0;36m<cell line: 1>\u001b[0;34m()\u001b[0m\n\u001b[0;32m----> 1\u001b[0m \u001b[43mlike\u001b[49m\u001b[38;5;241;43m.\u001b[39;49m\u001b[43mloglike\u001b[49m\u001b[43m(\u001b[49m\u001b[43m[\u001b[49m\u001b[38;5;241;43m10.\u001b[39;49m\u001b[43m,\u001b[49m\u001b[43m \u001b[49m\u001b[38;5;241;43m2.\u001b[39;49m\u001b[43m]\u001b[49m\u001b[43m,\u001b[49m\n\u001b[1;32m      2\u001b[0m \u001b[43m             \u001b[49m\u001b[43m[\u001b[49m\u001b[43m]\u001b[49m\u001b[43m)\u001b[49m\n",
      "File \u001b[0;32m/lustre/aoc/projects/hera/agorce/pspec_likelihood/src/pspec_likelihood/likelihood.py:650\u001b[0m, in \u001b[0;36mloglike\u001b[0;34m(self, theory_params, sys_params)\u001b[0m\n\u001b[1;32m    648\u001b[0m model = self.model.compute_model(theory_params, sys_params)[self.data_mask]\n\u001b[1;32m    649\u001b[0m data = self.model.power_spectrum[self.data_mask]\n\u001b[0;32m--> 650\u001b[0m residuals = data - model\n\u001b[1;32m    651\u001b[0m \n\u001b[1;32m    652\u001b[0m residuals_over_errors = (\n",
      "File \u001b[0;32m/lustre/aoc/projects/hera/agorce/anaconda3/envs/pspec_likelihood/lib/python3.8/site-packages/astropy/units/quantity.py:593\u001b[0m, in \u001b[0;36mQuantity.__array_ufunc__\u001b[0;34m(self, function, method, *inputs, **kwargs)\u001b[0m\n\u001b[1;32m    571\u001b[0m \u001b[38;5;124;03m\"\"\"Wrap numpy ufuncs, taking care of units.\u001b[39;00m\n\u001b[1;32m    572\u001b[0m \n\u001b[1;32m    573\u001b[0m \u001b[38;5;124;03mParameters\u001b[39;00m\n\u001b[0;32m   (...)\u001b[0m\n\u001b[1;32m    587\u001b[0m \u001b[38;5;124;03m    Results of the ufunc, with the unit set properly.\u001b[39;00m\n\u001b[1;32m    588\u001b[0m \u001b[38;5;124;03m\"\"\"\u001b[39;00m\n\u001b[1;32m    589\u001b[0m \u001b[38;5;66;03m# Determine required conversion functions -- to bring the unit of the\u001b[39;00m\n\u001b[1;32m    590\u001b[0m \u001b[38;5;66;03m# input to that expected (e.g., radian for np.sin), or to get\u001b[39;00m\n\u001b[1;32m    591\u001b[0m \u001b[38;5;66;03m# consistent units between two inputs (e.g., in np.add) --\u001b[39;00m\n\u001b[1;32m    592\u001b[0m \u001b[38;5;66;03m# and the unit of the result (or tuple of units for nout > 1).\u001b[39;00m\n\u001b[0;32m--> 593\u001b[0m converters, unit \u001b[38;5;241m=\u001b[39m \u001b[43mconverters_and_unit\u001b[49m\u001b[43m(\u001b[49m\u001b[43mfunction\u001b[49m\u001b[43m,\u001b[49m\u001b[43m \u001b[49m\u001b[43mmethod\u001b[49m\u001b[43m,\u001b[49m\u001b[43m \u001b[49m\u001b[38;5;241;43m*\u001b[39;49m\u001b[43minputs\u001b[49m\u001b[43m)\u001b[49m\n\u001b[1;32m    595\u001b[0m out \u001b[38;5;241m=\u001b[39m kwargs\u001b[38;5;241m.\u001b[39mget(\u001b[38;5;124m'\u001b[39m\u001b[38;5;124mout\u001b[39m\u001b[38;5;124m'\u001b[39m, \u001b[38;5;28;01mNone\u001b[39;00m)\n\u001b[1;32m    596\u001b[0m \u001b[38;5;66;03m# Avoid loop back by turning any Quantity output into array views.\u001b[39;00m\n",
      "File \u001b[0;32m/lustre/aoc/projects/hera/agorce/anaconda3/envs/pspec_likelihood/lib/python3.8/site-packages/astropy/units/quantity_helper/converters.py:192\u001b[0m, in \u001b[0;36mconverters_and_unit\u001b[0;34m(function, method, *args)\u001b[0m\n\u001b[1;32m    190\u001b[0m             converters[i] \u001b[38;5;241m=\u001b[39m \u001b[38;5;28;01mNone\u001b[39;00m\n\u001b[1;32m    191\u001b[0m         \u001b[38;5;28;01melse\u001b[39;00m:\n\u001b[0;32m--> 192\u001b[0m             \u001b[38;5;28;01mraise\u001b[39;00m UnitConversionError(\n\u001b[1;32m    193\u001b[0m                 \u001b[38;5;124m\"\u001b[39m\u001b[38;5;124mCan only apply \u001b[39m\u001b[38;5;124m'\u001b[39m\u001b[38;5;132;01m{}\u001b[39;00m\u001b[38;5;124m'\u001b[39m\u001b[38;5;124m function to \u001b[39m\u001b[38;5;124m\"\u001b[39m\n\u001b[1;32m    194\u001b[0m                 \u001b[38;5;124m\"\u001b[39m\u001b[38;5;124mdimensionless quantities when other \u001b[39m\u001b[38;5;124m\"\u001b[39m\n\u001b[1;32m    195\u001b[0m                 \u001b[38;5;124m\"\u001b[39m\u001b[38;5;124margument is not a quantity (unless the \u001b[39m\u001b[38;5;124m\"\u001b[39m\n\u001b[1;32m    196\u001b[0m                 \u001b[38;5;124m\"\u001b[39m\u001b[38;5;124mlatter is all zero/infinity/nan)\u001b[39m\u001b[38;5;124m\"\u001b[39m\n\u001b[1;32m    197\u001b[0m                 \u001b[38;5;241m.\u001b[39mformat(function\u001b[38;5;241m.\u001b[39m\u001b[38;5;18m__name__\u001b[39m))\n\u001b[1;32m    198\u001b[0m \u001b[38;5;28;01mexcept\u001b[39;00m \u001b[38;5;167;01mTypeError\u001b[39;00m:\n\u001b[1;32m    199\u001b[0m     \u001b[38;5;66;03m# _can_have_arbitrary_unit failed: arg could not be compared\u001b[39;00m\n\u001b[1;32m    200\u001b[0m     \u001b[38;5;66;03m# with zero or checked to be finite. Then, ufunc will fail too.\u001b[39;00m\n\u001b[1;32m    201\u001b[0m     \u001b[38;5;28;01mraise\u001b[39;00m \u001b[38;5;167;01mTypeError\u001b[39;00m(\u001b[38;5;124m\"\u001b[39m\u001b[38;5;124mUnsupported operand type(s) for ufunc \u001b[39m\u001b[38;5;132;01m{}\u001b[39;00m\u001b[38;5;124m: \u001b[39m\u001b[38;5;124m\"\u001b[39m\n\u001b[1;32m    202\u001b[0m                     \u001b[38;5;124m\"\u001b[39m\u001b[38;5;124m'\u001b[39m\u001b[38;5;132;01m{}\u001b[39;00m\u001b[38;5;124m'\u001b[39m\u001b[38;5;124m\"\u001b[39m\u001b[38;5;241m.\u001b[39mformat(function\u001b[38;5;241m.\u001b[39m\u001b[38;5;18m__name__\u001b[39m,\n\u001b[1;32m    203\u001b[0m                                    \u001b[38;5;124m'\u001b[39m\u001b[38;5;124m,\u001b[39m\u001b[38;5;124m'\u001b[39m\u001b[38;5;241m.\u001b[39mjoin([arg\u001b[38;5;241m.\u001b[39m\u001b[38;5;18m__class__\u001b[39m\u001b[38;5;241m.\u001b[39m\u001b[38;5;18m__name__\u001b[39m\n\u001b[1;32m    204\u001b[0m                                              \u001b[38;5;28;01mfor\u001b[39;00m arg \u001b[38;5;129;01min\u001b[39;00m args])))\n",
      "\u001b[0;31mUnitConversionError\u001b[0m: Can only apply 'subtract' function to dimensionless quantities when other argument is not a quantity (unless the latter is all zero/infinity/nan)"
     ]
    }
   ],
   "source": [
    "like.loglike([10., 2.],\n",
    "             [])"
   ]
  },
  {
   "cell_type": "code",
   "execution_count": null,
   "id": "5b654143",
   "metadata": {},
   "outputs": [],
   "source": []
  },
  {
   "cell_type": "code",
   "execution_count": null,
   "id": "151ffd26",
   "metadata": {},
   "outputs": [],
   "source": []
  },
  {
   "cell_type": "code",
   "execution_count": null,
   "id": "ee67365b",
   "metadata": {},
   "outputs": [],
   "source": []
  }
 ],
 "metadata": {
  "kernelspec": {
   "display_name": "Python 3 (ipykernel)",
   "language": "python",
   "name": "python3"
  },
  "language_info": {
   "codemirror_mode": {
    "name": "ipython",
    "version": 3
   },
   "file_extension": ".py",
   "mimetype": "text/x-python",
   "name": "python",
   "nbconvert_exporter": "python",
   "pygments_lexer": "ipython3",
   "version": "3.9.7"
  }
 },
 "nbformat": 4,
 "nbformat_minor": 5
}
