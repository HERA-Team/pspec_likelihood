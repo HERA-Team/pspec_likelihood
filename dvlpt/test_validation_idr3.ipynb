{
 "cells": [
  {
   "cell_type": "code",
   "execution_count": 1,
   "id": "48d7f268",
   "metadata": {},
   "outputs": [],
   "source": [
    "from pyuvdata import UVData, UVBeam\n",
    "from pyuvdata import  utils as uvutils\n",
    "import hera_pspec as hp\n",
    "from hera_pspec.data import DATA_PATH\n",
    "from hera_cal import redcal\n",
    "from collections import OrderedDict as odict\n",
    "from  hera_pspec import utils\n",
    "from hera_pspec import uvpspec_utils as uvputils"
   ]
  },
  {
   "cell_type": "code",
   "execution_count": 2,
   "id": "9377dc70",
   "metadata": {},
   "outputs": [],
   "source": [
    "import simpleqe as sqe\n",
    "import matplotlib.gridspec as gridspec"
   ]
  },
  {
   "cell_type": "code",
   "execution_count": 3,
   "id": "7627e078",
   "metadata": {},
   "outputs": [],
   "source": [
    "from scipy.linalg import block_diag\n",
    "from astropy.io import fits\n",
    "from astropy import units, cosmology\n",
    "from scipy.interpolate import interp2d, interp1d\n",
    "from scipy import integrate\n",
    "import sys, matplotlib, os\n",
    "import numpy as np\n",
    "import h5py\n",
    "import time\n",
    "import pickle\n",
    "import copy\n",
    "import itertools\n",
    "import matplotlib.pyplot as plt\n",
    "from matplotlib import colors, cm\n",
    "cmap = cm.get_cmap('coolwarm')"
   ]
  },
  {
   "cell_type": "code",
   "execution_count": 4,
   "id": "14eb3774",
   "metadata": {},
   "outputs": [],
   "source": [
    "from hera_pspec import UVPSpec, UVWindow, FTBeam"
   ]
  },
  {
   "cell_type": "code",
   "execution_count": 5,
   "id": "63f79576",
   "metadata": {},
   "outputs": [],
   "source": [
    "sys.path.insert(1, \"/lustre/aoc/projects/hera/agorce/H1C_IDR3/\")\n",
    "import utils"
   ]
  },
  {
   "cell_type": "code",
   "execution_count": 10,
   "id": "bce1a604",
   "metadata": {},
   "outputs": [],
   "source": [
    "from pspec_likelihood import *"
   ]
  },
  {
   "cell_type": "code",
   "execution_count": 11,
   "id": "d435ce1d",
   "metadata": {},
   "outputs": [],
   "source": [
    "from matplotlib import rc\n",
    "rc('font',**{'family':'serif', 'serif':['times new roman'], 'size': 15})\n",
    "rc('text', usetex=True)\n",
    "rc('axes', linewidth = 1.5)"
   ]
  },
  {
   "cell_type": "code",
   "execution_count": 12,
   "id": "3a7892e6",
   "metadata": {},
   "outputs": [],
   "source": [
    "%matplotlib inline\n",
    "%load_ext autoreload\n",
    "%autoreload 2"
   ]
  },
  {
   "cell_type": "code",
   "execution_count": 13,
   "id": "17df4843",
   "metadata": {},
   "outputs": [],
   "source": [
    "cosmo = cosmology.Planck18"
   ]
  },
  {
   "cell_type": "code",
   "execution_count": 14,
   "id": "9d1a13bf",
   "metadata": {},
   "outputs": [],
   "source": [
    "path_to_uvp = '/lustre/aoc/projects/hera/agorce/tests_pspec_like/exact_wf/'"
   ]
  },
  {
   "cell_type": "code",
   "execution_count": 15,
   "id": "34dd2ab8",
   "metadata": {},
   "outputs": [],
   "source": [
    "def theory_model(z, k, params):\n",
    "    return params[0]*(1.+z)/k**params[1]"
   ]
  },
  {
   "cell_type": "code",
   "execution_count": 16,
   "id": "3e3176d7",
   "metadata": {},
   "outputs": [],
   "source": [
    "def bias(k, z, little_h=True):\n",
    "    return np.ones(k.shape)"
   ]
  },
  {
   "cell_type": "code",
   "execution_count": 17,
   "id": "0b967c6e",
   "metadata": {},
   "outputs": [],
   "source": [
    "def bias_prior(params):\n",
    "    return 1."
   ]
  },
  {
   "cell_type": "code",
   "execution_count": 18,
   "id": "91bed527",
   "metadata": {},
   "outputs": [],
   "source": [
    "field = 'C'\n",
    "spw = 0\n",
    "\n",
    "# uvp_cosmo = UVPSpec()\n",
    "# uvp_cosmo.read_hdf5(f'{validation_folder}Deltasq_Band_{spw+1}_Field_{field}.h5')\n",
    "\n",
    "filename = f'{path_to_uvp}sph_xtk_idr3_field{field}_band{spw+1}.hdf5'\n",
    "# filename = path_to_uvp+'u_xtk_idr3_exact_wf_field{}.hdf5'.format(field)\n",
    "\n",
    "sph_pk = UVPSpec()\n",
    "sph_pk.read_hdf5(filename)\n",
    "\n",
    "u_xtk = UVPSpec()\n",
    "u_xtk.read_hdf5(path_to_uvp+'u_xtk_idr3_field{}.hdf5'.format(field))"
   ]
  },
  {
   "cell_type": "code",
   "execution_count": 33,
   "id": "1f3db9d9",
   "metadata": {},
   "outputs": [
    {
     "data": {
      "text/plain": [
       "(1, 40, 1)"
      ]
     },
     "execution_count": 33,
     "metadata": {},
     "output_type": "execute_result"
    }
   ],
   "source": [
    "sph_pk.data_array[0].shape"
   ]
  },
  {
   "cell_type": "code",
   "execution_count": 19,
   "id": "5e89c485",
   "metadata": {},
   "outputs": [],
   "source": [
    "sph_pk.convert_to_deltasq(inplace=True)"
   ]
  },
  {
   "cell_type": "code",
   "execution_count": 20,
   "id": "29cc4ef2",
   "metadata": {},
   "outputs": [
    {
     "name": "stdout",
     "output_type": "stream",
     "text": [
      "True\n"
     ]
    }
   ],
   "source": [
    "little_h = 'h^-3' in sph_pk.norm_units\n",
    "print(little_h)"
   ]
  },
  {
   "cell_type": "code",
   "execution_count": 21,
   "id": "945a6e99",
   "metadata": {},
   "outputs": [
    {
     "data": {
      "text/plain": [
       "0"
      ]
     },
     "execution_count": 21,
     "metadata": {},
     "output_type": "execute_result"
    }
   ],
   "source": [
    "spw"
   ]
  },
  {
   "cell_type": "code",
   "execution_count": 22,
   "id": "80089690",
   "metadata": {},
   "outputs": [
    {
     "name": "stdout",
     "output_type": "stream",
     "text": [
      "10.345518635132605\n"
     ]
    }
   ],
   "source": [
    "band_index = spw\n",
    "spw_index = sph_pk.spw_array[band_index]\n",
    "spw_frequencies = sph_pk.get_spw_ranges()[spw_index][:2]\n",
    "redshift = sph_pk.cosmo.f2z(np.mean(spw_frequencies))\n",
    "print(redshift)"
   ]
  },
  {
   "cell_type": "code",
   "execution_count": 23,
   "id": "78892211",
   "metadata": {},
   "outputs": [
    {
     "name": "stdout",
     "output_type": "stream",
     "text": [
      "10.349945290862271\n"
     ]
    }
   ],
   "source": [
    "avg_nu = np.mean(sph_pk.freq_array[sph_pk.spw_to_freq_indices(spw)])\n",
    "avg_z = sph_pk.cosmo.f2z(avg_nu)\n",
    "print(avg_z)"
   ]
  },
  {
   "cell_type": "code",
   "execution_count": 24,
   "id": "3a597649",
   "metadata": {},
   "outputs": [
    {
     "data": {
      "text/plain": [
       "True"
      ]
     },
     "execution_count": 24,
     "metadata": {},
     "output_type": "execute_result"
    }
   ],
   "source": [
    "\"Spherically averaged with hera_pspec\" in sph_pk.history"
   ]
  },
  {
   "cell_type": "code",
   "execution_count": 25,
   "id": "7d0a23c5",
   "metadata": {},
   "outputs": [
    {
     "data": {
      "text/plain": [
       "array([3.72335002e-12])"
      ]
     },
     "execution_count": 25,
     "metadata": {},
     "output_type": "execute_result"
    }
   ],
   "source": [
    "sph_pk.get_kperps(spw)"
   ]
  },
  {
   "cell_type": "code",
   "execution_count": 26,
   "id": "fc554242",
   "metadata": {},
   "outputs": [
    {
     "name": "stdout",
     "output_type": "stream",
     "text": [
      "158 79 79\n"
     ]
    }
   ],
   "source": [
    "n_bands = len(u_xtk.get_all_keys())\n",
    "print(n_bands, len(u_xtk.get_kperps(0)), len(np.unique(u_xtk.get_kperps(0))))\n",
    "# print(u_xtk.get_kperps(0), len(u_xtk.get_red_blpairs()))"
   ]
  },
  {
   "cell_type": "code",
   "execution_count": 27,
   "id": "215745e2",
   "metadata": {},
   "outputs": [
    {
     "name": "stdout",
     "output_type": "stream",
     "text": [
      "(40,) (40,) True\n"
     ]
    }
   ],
   "source": [
    "band_key = sph_pk.get_all_keys()[band_index]\n",
    "ps = sph_pk.get_data(band_key).real.flatten()\n",
    "ps2 = sph_pk.data_array[spw].real.flatten() \n",
    "print(ps.shape, ps2.shape, np.all(ps==ps2))"
   ]
  },
  {
   "cell_type": "code",
   "execution_count": 28,
   "id": "2f2eb1b9",
   "metadata": {},
   "outputs": [
    {
     "name": "stdout",
     "output_type": "stream",
     "text": [
      "True\n"
     ]
    }
   ],
   "source": [
    "wf_3d = sph_pk.get_window_function(band_key)\n",
    "window_function = block_diag(*wf_3d)\n",
    "print(np.all(window_function==sph_pk.window_function_array[spw].squeeze()))"
   ]
  },
  {
   "cell_type": "code",
   "execution_count": 29,
   "id": "7368966b",
   "metadata": {},
   "outputs": [
    {
     "data": {
      "text/latex": [
       "$\\mathrm{h_{100}}$"
      ],
      "text/plain": [
       "Unit(\"littleh\")"
      ]
     },
     "execution_count": 29,
     "metadata": {},
     "output_type": "execute_result"
    }
   ],
   "source": [
    "cosmology.units.littleh"
   ]
  },
  {
   "cell_type": "code",
   "execution_count": 30,
   "id": "0c638c08",
   "metadata": {},
   "outputs": [],
   "source": [
    "dmi = DataModelInterface(cosmology=cosmo,\n",
    "                         redshift=redshift,\n",
    "                         power_spectrum=sph_pk.data_array[spw].real.flatten() * units.mK**2,\n",
    "                         window_function=sph_pk.window_function_array[spw].squeeze(),\n",
    "                         covariance=sph_pk.cov_array_real[spw].squeeze()*units.mK**4,\n",
    "                         kpar_bins_obs=sph_pk.get_kparas(spw) * cosmology.units.littleh / units.Mpc,\n",
    "                         kpar_bins_theory=sph_pk.get_kparas(spw)* cosmology.units.littleh / units.Mpc,\n",
    "                         kpar_widths_theory=None,\n",
    "                         kperp_bins_obs=None,\n",
    "                         kperp_bins_theory=None,\n",
    "                         kperp_widths_theory=None,\n",
    "                         window_integration_rule='midpoint',\n",
    "                         theory_uses_little_h=little_h,\n",
    "                         theory_uses_spherical_k=True,\n",
    "                         theory_model=theory_model,\n",
    "                         sys_model=None)"
   ]
  },
  {
   "cell_type": "code",
   "execution_count": 31,
   "id": "7fa04a1a",
   "metadata": {},
   "outputs": [
    {
     "name": "stderr",
     "output_type": "stream",
     "text": [
      "/lustre/aoc/projects/hera/agorce/pspec_likelihood/src/pspec_likelihood/likelihood.py:618: UserWarning: Your covariance matrix is not diagonal. The MarginalizedLinearPositiveSystematics class requires diagonal covariance. Forcing it...\n",
      "  warnings.warn(\n"
     ]
    }
   ],
   "source": [
    "like = MarginalizedLinearPositiveSystematics(model=dmi)"
   ]
  },
  {
   "cell_type": "code",
   "execution_count": 32,
   "id": "c9fa523a",
   "metadata": {
    "scrolled": false
   },
   "outputs": [
    {
     "name": "stderr",
     "output_type": "stream",
     "text": [
      "/lustre/aoc/projects/hera/agorce/pspec_likelihood/src/pspec_likelihood/likelihood.py:638: UserWarning: Warning: Ignoring data in positions (array([0, 1, 2]),) as the variance is zero\n",
      "  warnings.warn(\n"
     ]
    },
    {
     "ename": "UnitConversionError",
     "evalue": "Can only apply 'subtract' function to dimensionless quantities when other argument is not a quantity (unless the latter is all zero/infinity/nan)",
     "output_type": "error",
     "traceback": [
      "\u001b[0;31m---------------------------------------------------------------------------\u001b[0m",
      "\u001b[0;31mUnitConversionError\u001b[0m                       Traceback (most recent call last)",
      "Input \u001b[0;32mIn [32]\u001b[0m, in \u001b[0;36m<cell line: 1>\u001b[0;34m()\u001b[0m\n\u001b[0;32m----> 1\u001b[0m \u001b[43mlike\u001b[49m\u001b[38;5;241;43m.\u001b[39;49m\u001b[43mloglike\u001b[49m\u001b[43m(\u001b[49m\u001b[43m[\u001b[49m\u001b[38;5;241;43m10.\u001b[39;49m\u001b[43m,\u001b[49m\u001b[43m \u001b[49m\u001b[38;5;241;43m2.\u001b[39;49m\u001b[43m]\u001b[49m\u001b[43m,\u001b[49m\n\u001b[1;32m      2\u001b[0m \u001b[43m             \u001b[49m\u001b[43m[\u001b[49m\u001b[43m]\u001b[49m\u001b[43m)\u001b[49m\n",
      "File \u001b[0;32m/lustre/aoc/projects/hera/agorce/pspec_likelihood/src/pspec_likelihood/likelihood.py:650\u001b[0m, in \u001b[0;36mloglike\u001b[0;34m(self, theory_params, sys_params)\u001b[0m\n\u001b[1;32m    648\u001b[0m model = self.model.compute_model(theory_params, sys_params)[self.data_mask]\n\u001b[1;32m    649\u001b[0m data = self.model.power_spectrum[self.data_mask]\n\u001b[0;32m--> 650\u001b[0m residuals = data - model\n\u001b[1;32m    651\u001b[0m \n\u001b[1;32m    652\u001b[0m residuals_over_errors = (\n",
      "File \u001b[0;32m/lustre/aoc/projects/hera/agorce/anaconda3/envs/pspec_likelihood/lib/python3.8/site-packages/astropy/units/quantity.py:593\u001b[0m, in \u001b[0;36mQuantity.__array_ufunc__\u001b[0;34m(self, function, method, *inputs, **kwargs)\u001b[0m\n\u001b[1;32m    571\u001b[0m \u001b[38;5;124;03m\"\"\"Wrap numpy ufuncs, taking care of units.\u001b[39;00m\n\u001b[1;32m    572\u001b[0m \n\u001b[1;32m    573\u001b[0m \u001b[38;5;124;03mParameters\u001b[39;00m\n\u001b[0;32m   (...)\u001b[0m\n\u001b[1;32m    587\u001b[0m \u001b[38;5;124;03m    Results of the ufunc, with the unit set properly.\u001b[39;00m\n\u001b[1;32m    588\u001b[0m \u001b[38;5;124;03m\"\"\"\u001b[39;00m\n\u001b[1;32m    589\u001b[0m \u001b[38;5;66;03m# Determine required conversion functions -- to bring the unit of the\u001b[39;00m\n\u001b[1;32m    590\u001b[0m \u001b[38;5;66;03m# input to that expected (e.g., radian for np.sin), or to get\u001b[39;00m\n\u001b[1;32m    591\u001b[0m \u001b[38;5;66;03m# consistent units between two inputs (e.g., in np.add) --\u001b[39;00m\n\u001b[1;32m    592\u001b[0m \u001b[38;5;66;03m# and the unit of the result (or tuple of units for nout > 1).\u001b[39;00m\n\u001b[0;32m--> 593\u001b[0m converters, unit \u001b[38;5;241m=\u001b[39m \u001b[43mconverters_and_unit\u001b[49m\u001b[43m(\u001b[49m\u001b[43mfunction\u001b[49m\u001b[43m,\u001b[49m\u001b[43m \u001b[49m\u001b[43mmethod\u001b[49m\u001b[43m,\u001b[49m\u001b[43m \u001b[49m\u001b[38;5;241;43m*\u001b[39;49m\u001b[43minputs\u001b[49m\u001b[43m)\u001b[49m\n\u001b[1;32m    595\u001b[0m out \u001b[38;5;241m=\u001b[39m kwargs\u001b[38;5;241m.\u001b[39mget(\u001b[38;5;124m'\u001b[39m\u001b[38;5;124mout\u001b[39m\u001b[38;5;124m'\u001b[39m, \u001b[38;5;28;01mNone\u001b[39;00m)\n\u001b[1;32m    596\u001b[0m \u001b[38;5;66;03m# Avoid loop back by turning any Quantity output into array views.\u001b[39;00m\n",
      "File \u001b[0;32m/lustre/aoc/projects/hera/agorce/anaconda3/envs/pspec_likelihood/lib/python3.8/site-packages/astropy/units/quantity_helper/converters.py:192\u001b[0m, in \u001b[0;36mconverters_and_unit\u001b[0;34m(function, method, *args)\u001b[0m\n\u001b[1;32m    190\u001b[0m             converters[i] \u001b[38;5;241m=\u001b[39m \u001b[38;5;28;01mNone\u001b[39;00m\n\u001b[1;32m    191\u001b[0m         \u001b[38;5;28;01melse\u001b[39;00m:\n\u001b[0;32m--> 192\u001b[0m             \u001b[38;5;28;01mraise\u001b[39;00m UnitConversionError(\n\u001b[1;32m    193\u001b[0m                 \u001b[38;5;124m\"\u001b[39m\u001b[38;5;124mCan only apply \u001b[39m\u001b[38;5;124m'\u001b[39m\u001b[38;5;132;01m{}\u001b[39;00m\u001b[38;5;124m'\u001b[39m\u001b[38;5;124m function to \u001b[39m\u001b[38;5;124m\"\u001b[39m\n\u001b[1;32m    194\u001b[0m                 \u001b[38;5;124m\"\u001b[39m\u001b[38;5;124mdimensionless quantities when other \u001b[39m\u001b[38;5;124m\"\u001b[39m\n\u001b[1;32m    195\u001b[0m                 \u001b[38;5;124m\"\u001b[39m\u001b[38;5;124margument is not a quantity (unless the \u001b[39m\u001b[38;5;124m\"\u001b[39m\n\u001b[1;32m    196\u001b[0m                 \u001b[38;5;124m\"\u001b[39m\u001b[38;5;124mlatter is all zero/infinity/nan)\u001b[39m\u001b[38;5;124m\"\u001b[39m\n\u001b[1;32m    197\u001b[0m                 \u001b[38;5;241m.\u001b[39mformat(function\u001b[38;5;241m.\u001b[39m\u001b[38;5;18m__name__\u001b[39m))\n\u001b[1;32m    198\u001b[0m \u001b[38;5;28;01mexcept\u001b[39;00m \u001b[38;5;167;01mTypeError\u001b[39;00m:\n\u001b[1;32m    199\u001b[0m     \u001b[38;5;66;03m# _can_have_arbitrary_unit failed: arg could not be compared\u001b[39;00m\n\u001b[1;32m    200\u001b[0m     \u001b[38;5;66;03m# with zero or checked to be finite. Then, ufunc will fail too.\u001b[39;00m\n\u001b[1;32m    201\u001b[0m     \u001b[38;5;28;01mraise\u001b[39;00m \u001b[38;5;167;01mTypeError\u001b[39;00m(\u001b[38;5;124m\"\u001b[39m\u001b[38;5;124mUnsupported operand type(s) for ufunc \u001b[39m\u001b[38;5;132;01m{}\u001b[39;00m\u001b[38;5;124m: \u001b[39m\u001b[38;5;124m\"\u001b[39m\n\u001b[1;32m    202\u001b[0m                     \u001b[38;5;124m\"\u001b[39m\u001b[38;5;124m'\u001b[39m\u001b[38;5;132;01m{}\u001b[39;00m\u001b[38;5;124m'\u001b[39m\u001b[38;5;124m\"\u001b[39m\u001b[38;5;241m.\u001b[39mformat(function\u001b[38;5;241m.\u001b[39m\u001b[38;5;18m__name__\u001b[39m,\n\u001b[1;32m    203\u001b[0m                                    \u001b[38;5;124m'\u001b[39m\u001b[38;5;124m,\u001b[39m\u001b[38;5;124m'\u001b[39m\u001b[38;5;241m.\u001b[39mjoin([arg\u001b[38;5;241m.\u001b[39m\u001b[38;5;18m__class__\u001b[39m\u001b[38;5;241m.\u001b[39m\u001b[38;5;18m__name__\u001b[39m\n\u001b[1;32m    204\u001b[0m                                              \u001b[38;5;28;01mfor\u001b[39;00m arg \u001b[38;5;129;01min\u001b[39;00m args])))\n",
      "\u001b[0;31mUnitConversionError\u001b[0m: Can only apply 'subtract' function to dimensionless quantities when other argument is not a quantity (unless the latter is all zero/infinity/nan)"
     ]
    }
   ],
   "source": [
    "like.loglike([10., 2.],\n",
    "             [])"
   ]
  },
  {
   "cell_type": "code",
   "execution_count": null,
   "id": "5b654143",
   "metadata": {},
   "outputs": [],
   "source": []
  },
  {
   "cell_type": "code",
   "execution_count": null,
   "id": "151ffd26",
   "metadata": {},
   "outputs": [],
   "source": []
  },
  {
   "cell_type": "code",
   "execution_count": 27,
   "id": "8f291fe9",
   "metadata": {},
   "outputs": [
    {
     "data": {
      "text/plain": [
       "False"
      ]
     },
     "execution_count": 27,
     "metadata": {},
     "output_type": "execute_result"
    }
   ],
   "source": [
    "np.all(dmi.power_spectrum == dmi4pspec.power_spectrum)"
   ]
  },
  {
   "cell_type": "code",
   "execution_count": 26,
   "id": "2fffa719",
   "metadata": {},
   "outputs": [],
   "source": [
    "dmi4pspec = DataModelInterface.from_uvpspec(cosmology=cosmo,\n",
    "                                            uvp=sph_pk, \n",
    "                                            band_index=spw,\n",
    "                                            theory_uses_spherical_k=True,\n",
    "                                            theory_model=theory_model,\n",
    "                                            kpar_bins_theory=sph_pk.get_kparas(spw),\n",
    "                                            window_integration_rule='midpoint',\n",
    "                                            theory_uses_little_h=little_h,\n",
    "                                            sys_model=None)"
   ]
  },
  {
   "cell_type": "code",
   "execution_count": 196,
   "id": "7c12bdfc",
   "metadata": {},
   "outputs": [
    {
     "data": {
      "text/latex": [
       "$[0,~0,~0,~80858.156,~81329.328,~90504.207,~107614.96,~99195.383,~108445.13,~99816.181,~103286.34,~151877.85,~149367.81,~145560.31,~102137.47,~89120.35,~77972.442,~86815.845,~49130.841,~-105740.82,~-20284.667,~41902.493,~42071.748,~25750.828,~297394.05,~256265.74,~-94613.206,~-191752.6,~-295577.12,~-78478.346,~-79204.973,~671671.1,~728976.83,~-67311.594,~-44299.27,~-21242.057,~-315526.29,~221313.46,~186053.49,~-39199.882] \\; \\mathrm{mK^{2}}$"
      ],
      "text/plain": [
       "<Quantity [      0.        ,       0.        ,       0.        ,\n",
       "             80858.1557112 ,   81329.32832972,   90504.2068348 ,\n",
       "            107614.96299835,   99195.38297638,  108445.1323706 ,\n",
       "             99816.18130349,  103286.34348106,  151877.84512877,\n",
       "            149367.80722872,  145560.31115762,  102137.46844667,\n",
       "             89120.35018827,   77972.44196781,   86815.84509719,\n",
       "             49130.84068066, -105740.81906454,  -20284.66735989,\n",
       "             41902.49333536,   42071.74757227,   25750.82750968,\n",
       "            297394.04877711,  256265.73981344,  -94613.20594183,\n",
       "           -191752.59778745, -295577.12498071,  -78478.34603521,\n",
       "            -79204.97326979,  671671.1024984 ,  728976.82580598,\n",
       "            -67311.59368981,  -44299.26967549,  -21242.0572551 ,\n",
       "           -315526.28902426,  221313.46481762,  186053.4940889 ,\n",
       "            -39199.88159653] mK2>"
      ]
     },
     "execution_count": 196,
     "metadata": {},
     "output_type": "execute_result"
    }
   ],
   "source": [
    "dmi.power_spectrum"
   ]
  },
  {
   "cell_type": "code",
   "execution_count": 197,
   "id": "01cb895b",
   "metadata": {},
   "outputs": [
    {
     "data": {
      "text/latex": [
       "$[0,~0,~0,~80858.156,~81329.328,~90504.207,~107614.96,~99195.383,~108445.13,~99816.181,~103286.34,~151877.85,~149367.81,~145560.31,~102137.47,~89120.35,~77972.442,~86815.845,~49130.841,~0,~0,~41902.493,~42071.748,~25750.828,~297394.05,~256265.74,~0,~0,~0,~0,~0,~671671.1,~728976.83,~0,~0,~0,~0,~221313.46,~186053.49,~0] \\; \\mathrm{mK^{2}}$"
      ],
      "text/plain": [
       "<Quantity [     0.        ,      0.        ,      0.        ,\n",
       "            80858.1557112 ,  81329.32832972,  90504.2068348 ,\n",
       "           107614.96299835,  99195.38297638, 108445.1323706 ,\n",
       "            99816.18130349, 103286.34348106, 151877.84512877,\n",
       "           149367.80722872, 145560.31115762, 102137.46844667,\n",
       "            89120.35018827,  77972.44196781,  86815.84509719,\n",
       "            49130.84068066,      0.        ,      0.        ,\n",
       "            41902.49333536,  42071.74757227,  25750.82750968,\n",
       "           297394.04877711, 256265.73981344,      0.        ,\n",
       "                0.        ,      0.        ,      0.        ,\n",
       "                0.        , 671671.1024984 , 728976.82580598,\n",
       "                0.        ,      0.        ,      0.        ,\n",
       "                0.        , 221313.46481762, 186053.4940889 ,\n",
       "                0.        ] mK2>"
      ]
     },
     "execution_count": 197,
     "metadata": {},
     "output_type": "execute_result"
    }
   ],
   "source": [
    "dmi4pspec.power_spectrum"
   ]
  },
  {
   "cell_type": "code",
   "execution_count": 191,
   "id": "ac719a09",
   "metadata": {},
   "outputs": [
    {
     "name": "stdout",
     "output_type": "stream",
     "text": [
      "power_spectrum\n"
     ]
    },
    {
     "ename": "KeyError",
     "evalue": "'spherical_kbins_obs'",
     "output_type": "error",
     "traceback": [
      "\u001b[0;31m---------------------------------------------------------------------------\u001b[0m",
      "\u001b[0;31mKeyError\u001b[0m                                  Traceback (most recent call last)",
      "Input \u001b[0;32mIn [191]\u001b[0m, in \u001b[0;36m<cell line: 1>\u001b[0;34m()\u001b[0m\n\u001b[1;32m      1\u001b[0m \u001b[38;5;28;01mfor\u001b[39;00m key \u001b[38;5;129;01min\u001b[39;00m \u001b[38;5;28mlist\u001b[39m(dmi\u001b[38;5;241m.\u001b[39m\u001b[38;5;18m__dict__\u001b[39m\u001b[38;5;241m.\u001b[39mkeys()):\n\u001b[0;32m----> 2\u001b[0m     \u001b[38;5;28;01mif\u001b[39;00m \u001b[38;5;129;01mnot\u001b[39;00m np\u001b[38;5;241m.\u001b[39mall(dmi\u001b[38;5;241m.\u001b[39m\u001b[38;5;18m__dict__\u001b[39m[key]\u001b[38;5;241m==\u001b[39m\u001b[43mdmi4pspec\u001b[49m\u001b[38;5;241;43m.\u001b[39;49m\u001b[38;5;18;43m__dict__\u001b[39;49m\u001b[43m[\u001b[49m\u001b[43mkey\u001b[49m\u001b[43m]\u001b[49m):\n\u001b[1;32m      3\u001b[0m         \u001b[38;5;28mprint\u001b[39m(key)\n",
      "\u001b[0;31mKeyError\u001b[0m: 'spherical_kbins_obs'"
     ]
    }
   ],
   "source": [
    "for key in list(dmi.__dict__.keys()):\n",
    "    if not np.all(dmi.__dict__[key]==dmi4pspec.__dict__[key]):\n",
    "        print(key)"
   ]
  },
  {
   "cell_type": "code",
   "execution_count": 184,
   "id": "61d31fbe",
   "metadata": {},
   "outputs": [
    {
     "data": {
      "text/plain": [
       "True"
      ]
     },
     "execution_count": 184,
     "metadata": {},
     "output_type": "execute_result"
    }
   ],
   "source": [
    "np.all(dmi.window_function == dmi4pspec.window_function)"
   ]
  },
  {
   "cell_type": "code",
   "execution_count": 185,
   "id": "aed685e0",
   "metadata": {},
   "outputs": [
    {
     "data": {
      "text/plain": [
       "False"
      ]
     },
     "execution_count": 185,
     "metadata": {},
     "output_type": "execute_result"
    }
   ],
   "source": [
    "dmi == dmi4pspec"
   ]
  },
  {
   "cell_type": "code",
   "execution_count": 36,
   "id": "03377a3c",
   "metadata": {},
   "outputs": [
    {
     "data": {
      "text/plain": [
       "array([0.06185152, 0.06185152, 0.06185152, 0.06185152, 0.06185152,\n",
       "       0.06185152, 0.06185152, 0.06185152, 0.06185152, 0.06185152,\n",
       "       0.06185152, 0.06185152, 0.06185152, 0.06185152, 0.06185152,\n",
       "       0.06185152, 0.06185152, 0.06185152, 0.06185152, 0.06185152,\n",
       "       0.06185152, 0.06185152, 0.06185152, 0.06185152, 0.06185152,\n",
       "       0.06185152, 0.06185152, 0.06185152, 0.06185152, 0.06185152,\n",
       "       0.06185152, 0.06185152, 0.06185152, 0.06185152, 0.06185152,\n",
       "       0.06185152, 0.06185152, 0.06185152, 0.06185152, 0.06185152])"
      ]
     },
     "execution_count": 36,
     "metadata": {},
     "output_type": "execute_result"
    }
   ],
   "source": [
    "a = np.diff(sph_pk.get_kparas(spw)).mean()*np.ones(sph_pk.get_kparas(spw).shape)\n",
    "a"
   ]
  },
  {
   "cell_type": "code",
   "execution_count": null,
   "id": "ee67365b",
   "metadata": {},
   "outputs": [],
   "source": []
  }
 ],
 "metadata": {
  "kernelspec": {
   "display_name": "Python 3 (ipykernel)",
   "language": "python",
   "name": "python3"
  },
  "language_info": {
   "codemirror_mode": {
    "name": "ipython",
    "version": 3
   },
   "file_extension": ".py",
   "mimetype": "text/x-python",
   "name": "python",
   "nbconvert_exporter": "python",
   "pygments_lexer": "ipython3",
   "version": "3.8.13"
  }
 },
 "nbformat": 4,
 "nbformat_minor": 5
}
