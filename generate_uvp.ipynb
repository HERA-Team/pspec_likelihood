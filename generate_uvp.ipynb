{
 "cells": [
  {
   "cell_type": "code",
   "execution_count": 18,
   "metadata": {
    "ExecuteTime": {
     "end_time": "2021-01-07T07:29:01.812733Z",
     "start_time": "2021-01-07T07:29:01.809051Z"
    }
   },
   "outputs": [],
   "source": [
    "import numpy as np\n",
    "import matplotlib.pyplot as plt\n",
    "from hera_pspec import UVPSpec\n",
    "from collections import OrderedDict as odict\n"
   ]
  },
  {
   "cell_type": "code",
   "execution_count": 19,
   "metadata": {
    "ExecuteTime": {
     "end_time": "2021-01-07T07:29:03.426176Z",
     "start_time": "2021-01-07T07:29:03.395137Z"
    }
   },
   "outputs": [],
   "source": [
    "uvp = UVPSpec()\n",
    "uvp.read_hdf5('test_uvp.h5')"
   ]
  },
  {
   "cell_type": "code",
   "execution_count": 20,
   "metadata": {
    "ExecuteTime": {
     "end_time": "2021-01-07T07:29:03.619499Z",
     "start_time": "2021-01-07T07:29:03.613108Z"
    }
   },
   "outputs": [
    {
     "data": {
      "text/plain": [
       "[(0, ((24, 25), (24, 25)), ('xx', 'xx')),\n",
       " (0, ((37, 38), (37, 38)), ('xx', 'xx')),\n",
       " (0, ((38, 39), (38, 39)), ('xx', 'xx')),\n",
       " (0, ((52, 53), (52, 53)), ('xx', 'xx'))]"
      ]
     },
     "execution_count": 20,
     "metadata": {},
     "output_type": "execute_result"
    }
   ],
   "source": [
    "uvp.get_all_keys()"
   ]
  },
  {
   "cell_type": "code",
   "execution_count": 21,
   "metadata": {
    "ExecuteTime": {
     "end_time": "2021-01-07T07:29:03.820407Z",
     "start_time": "2021-01-07T07:29:03.811519Z"
    }
   },
   "outputs": [],
   "source": [
    "uvp.average_spectra(time_avg=True)"
   ]
  },
  {
   "cell_type": "code",
   "execution_count": 32,
   "metadata": {
    "ExecuteTime": {
     "end_time": "2021-01-07T07:31:12.629499Z",
     "start_time": "2021-01-07T07:31:12.621608Z"
    }
   },
   "outputs": [],
   "source": [
    "# generate white noise power spectrum with amplitude of 1. and variance of 1/10\n",
    "uvp.cov_array_real = odict({})\n",
    "uvp.cov_array_imag = odict({})\n",
    "uvp.window_function_array = odict({})\n",
    "d = uvp.data_array[0]\n",
    "uvp.data_array[0] = np.ones_like(d)\\\n",
    "+ 1/np.sqrt(10.) * (np.random.randn(*d.shape)\\\n",
    "                    + 1j * np.random.randn(*d.shape))\n",
    "uvp.cov_array_real[0] = np.asarray([np.asarray([np.identity(d.shape[1])]).T\n",
    "                                   for blt in range(uvp.Nblpairts)]) / np.sqrt(20.)\n",
    "uvp.cov_array_imag[0] = np.asarray([np.asarray([np.identity(d.shape[1])]).T\n",
    "                                   for blt in range(uvp.Nblpairts)]) / np.sqrt(20.)\n",
    "uvp.window_function_array[0] = np.asarray([np.asarray([np.identity(d.shape[1])]).T\n",
    "                                   for blt in range(uvp.Nblpairts)]) / np.sqrt(20.)\n"
   ]
  },
  {
   "cell_type": "code",
   "execution_count": 33,
   "metadata": {
    "ExecuteTime": {
     "end_time": "2021-01-07T07:31:57.871760Z",
     "start_time": "2021-01-07T07:31:57.827761Z"
    }
   },
   "outputs": [],
   "source": [
    "uvp.write_hdf5('uvp_test_cov_windows.h5')"
   ]
  },
  {
   "cell_type": "code",
   "execution_count": null,
   "metadata": {},
   "outputs": [],
   "source": []
  }
 ],
 "metadata": {
  "kernelspec": {
   "display_name": "Python 3",
   "language": "python",
   "name": "python3"
  },
  "language_info": {
   "codemirror_mode": {
    "name": "ipython",
    "version": 3
   },
   "file_extension": ".py",
   "mimetype": "text/x-python",
   "name": "python",
   "nbconvert_exporter": "python",
   "pygments_lexer": "ipython3",
   "version": "3.7.9"
  }
 },
 "nbformat": 4,
 "nbformat_minor": 4
}
